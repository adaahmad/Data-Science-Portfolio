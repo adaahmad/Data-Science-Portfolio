{
  "nbformat": 4,
  "nbformat_minor": 0,
  "metadata": {
    "colab": {
      "provenance": []
    },
    "kernelspec": {
      "name": "python3",
      "display_name": "Python 3"
    },
    "language_info": {
      "name": "python"
    }
  },
  "cells": [
    {
      "cell_type": "code",
      "execution_count": 1,
      "metadata": {
        "colab": {
          "base_uri": "https://localhost:8080/"
        },
        "id": "3UeYHi8nfBXG",
        "outputId": "937ecb7e-696b-4b25-b1f5-d25cbd352ce1"
      },
      "outputs": [
        {
          "output_type": "stream",
          "name": "stdout",
          "text": [
            "   Name  Score\n",
            "0   Ali     85\n",
            "1  Sara     90\n",
            "2  John     78\n"
          ]
        }
      ],
      "source": [
        "import pandas as pd\n",
        "\n",
        "data = {'Name': ['Ali', 'Sara', 'John'], 'Score': [85, 90, 78]}\n",
        "df = pd.DataFrame(data)\n",
        "print(df)\n"
      ]
    }
  ]
}